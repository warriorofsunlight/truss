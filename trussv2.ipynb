{
 "cells": [
  {
   "cell_type": "code",
   "execution_count": 1,
   "metadata": {},
   "outputs": [],
   "source": [
    "import numpy as np"
   ]
  },
  {
   "cell_type": "code",
   "execution_count": 2,
   "metadata": {},
   "outputs": [],
   "source": [
    "# number of elements\n",
    "elements_no = int(input('enter the number of elements: '))"
   ]
  },
  {
   "cell_type": "code",
   "execution_count": 3,
   "metadata": {},
   "outputs": [],
   "source": [
    "#define elements\n",
    "elements = {}\n",
    "for element in range(elements_no):\n",
    "    elements[element] = {'L': float(input(f'enter the lenght of element (m) {element+1}')),\n",
    "                         'E':float(input(f'enter the modulus of element {element+1}')),\n",
    "                         'A':float(input(f'enter the area of element (m ^ 2) {element+1}')),\n",
    "                         'cor':{'start':(float(input(f'enter the x coordinate of starting point of element {element+1}')), float(input(f'enter the y coordinate of starting point of element {element+1}'))),\n",
    "                                'end':(float(input(f'enter the x coordinate of ending point of element {element+1}')), float(input(f'enter the y coordinate of ending point of element {element+1}'))),\n",
    "                                },\n",
    "                            'DOF':{0:{'index':int(input(f'enter the index of first degree of freedom for elemnt {element+1}')), 'C ':bool(int(input('is it free (0) or constrain (1):')))},\n",
    "                                                 1:{'index':int(input(f'enter the index of second degree of freedom for elemnt {element+1}')), 'C ':bool(int(input('is it free (0) or constrain (1):')))},\n",
    "                                                 2:{'index':int(input(f'enter the index of third degree of freedom for elemnt {element+1}')), 'C ':bool(int(input('is it free (0) or constrain (1):')))},\n",
    "                                                 3:{'index':int(input(f'enter the index of fourth degree of freedom for elemnt {element+1}')), 'C ':bool(int(input('is it free (0) or constrain (1):')))}}\n",
    "\n",
    "                         }"
   ]
  },
  {
   "cell_type": "code",
   "execution_count": 4,
   "metadata": {},
   "outputs": [],
   "source": [
    "for element, feature in elements.items():\n",
    "    feature['DOF'] =  dict(sorted(feature['DOF'].items(), key=lambda x: x[1]['index']))"
   ]
  },
  {
   "cell_type": "code",
   "execution_count": 5,
   "metadata": {},
   "outputs": [],
   "source": [
    "DOFs = {}\n",
    "for element, feature in elements.items():\n",
    "    for i, dof in feature['DOF'].items():\n",
    "        DOFs[dof['index']] = dof['C ']\n",
    "DOFss = DOFs.keys()"
   ]
  },
  {
   "cell_type": "code",
   "execution_count": 6,
   "metadata": {},
   "outputs": [],
   "source": [
    "FDOF = []\n",
    "CDOF = []\n",
    "for dof, c in DOFs.items():\n",
    "    if c:\n",
    "        CDOF.append(dof)\n",
    "    else:\n",
    "        FDOF.append(dof)\n",
    "FDOF = sorted(FDOF)\n",
    "CDOF = sorted(CDOF)"
   ]
  },
  {
   "cell_type": "code",
   "execution_count": 7,
   "metadata": {},
   "outputs": [],
   "source": [
    "#define fixed forces matrix\n",
    "Qf = np.zeros((len(DOFs), 1))"
   ]
  },
  {
   "cell_type": "code",
   "execution_count": 8,
   "metadata": {},
   "outputs": [],
   "source": [
    "# define Qk\n",
    "Qk = np.zeros((len(FDOF), 1))\n",
    "for i, dof in enumerate(FDOF):\n",
    "    Qk[i][0] = float(input(f'enter the external force exetred on degre of freedom No (N) {dof}'))"
   ]
  },
  {
   "cell_type": "code",
   "execution_count": 9,
   "metadata": {},
   "outputs": [],
   "source": [
    "#define Qu\n",
    "Qu = np.zeros((len(CDOF), 1))"
   ]
  },
  {
   "cell_type": "code",
   "execution_count": 10,
   "metadata": {},
   "outputs": [],
   "source": [
    "#define Dk\n",
    "Dk = np.zeros((len(CDOF), 1))\n",
    "for i, dof in enumerate(CDOF):\n",
    "    Dk[i][0] = float(input(f'enter the external displacemnet for degre of freedom No (m) {dof}'))"
   ]
  },
  {
   "cell_type": "code",
   "execution_count": 11,
   "metadata": {},
   "outputs": [],
   "source": [
    "#define Qu\n",
    "Du = np.zeros((len(FDOF), 1))"
   ]
  },
  {
   "cell_type": "code",
   "execution_count": 12,
   "metadata": {},
   "outputs": [],
   "source": [
    "#local stifness matrix\n",
    "\n",
    "matrix = [[1,-1],\n",
    "               [-1,1]]\n",
    "\n",
    "matrix = np.array(matrix)\n",
    "\n",
    "stif_mat = {element:(elements[element]['E']*elements[element]['A']/elements[element]['L']) * matrix for element in elements}"
   ]
  },
  {
   "cell_type": "code",
   "execution_count": 13,
   "metadata": {},
   "outputs": [
    {
     "data": {
      "text/plain": [
       "{0: array([[ 50000., -50000.],\n",
       "        [-50000.,  50000.]]),\n",
       " 1: array([[ 40000., -40000.],\n",
       "        [-40000.,  40000.]]),\n",
       " 2: array([[ 66666.66666667, -66666.66666667],\n",
       "        [-66666.66666667,  66666.66666667]]),\n",
       " 3: array([[ 40000., -40000.],\n",
       "        [-40000.,  40000.]]),\n",
       " 4: array([[ 40000., -40000.],\n",
       "        [-40000.,  40000.]])}"
      ]
     },
     "execution_count": 13,
     "metadata": {},
     "output_type": "execute_result"
    }
   ],
   "source": [
    "stif_mat"
   ]
  },
  {
   "cell_type": "code",
   "execution_count": 14,
   "metadata": {},
   "outputs": [],
   "source": [
    "def lambda_x(xi, xj, yi, yj):\n",
    "    return (xj - xi)/np.sqrt((xj-xi)**2 + (yj-yi)**2)\n",
    "\n",
    "def lambda_y(xi, xj, yi, yj):\n",
    "    return (yj - yi)/np.sqrt((xj-xi)**2 + (yj-yi)**2)"
   ]
  },
  {
   "cell_type": "code",
   "execution_count": 15,
   "metadata": {},
   "outputs": [],
   "source": [
    "# transmition matrix\n",
    "tr_mats = {element:np.array([[lambda_x(xi=elements[element]['cor']['start'][0], xj=elements[element]['cor']['end'][0],\n",
    "                             yi=elements[element]['cor']['start'][1], yj=elements[element]['cor']['end'][1]),\n",
    "                             lambda_y(xi=elements[element]['cor']['start'][0], xj=elements[element]['cor']['end'][0],\n",
    "                             yi=elements[element]['cor']['start'][1], yj=elements[element]['cor']['end'][1]), 0, 0],\n",
    "                             [0, 0,lambda_x(xi=elements[element]['cor']['start'][0], xj=elements[element]['cor']['end'][0],\n",
    "                             yi=elements[element]['cor']['start'][1], yj=elements[element]['cor']['end'][1]),\n",
    "                             lambda_y(xi=elements[element]['cor']['start'][0], xj=elements[element]['cor']['end'][0],\n",
    "                             yi=elements[element]['cor']['start'][1], yj=elements[element]['cor']['end'][1]) ]]) for element in elements}"
   ]
  },
  {
   "cell_type": "code",
   "execution_count": 16,
   "metadata": {},
   "outputs": [
    {
     "data": {
      "text/plain": [
       "{0: array([[1., 0., 0., 0.],\n",
       "        [0., 0., 1., 0.]]),\n",
       " 1: array([[0.8, 0.6, 0. , 0. ],\n",
       "        [0. , 0. , 0.8, 0.6]]),\n",
       " 2: array([[0., 1., 0., 0.],\n",
       "        [0., 0., 0., 1.]]),\n",
       " 3: array([[ 0.8, -0.6,  0. ,  0. ],\n",
       "        [ 0. ,  0. ,  0.8, -0.6]]),\n",
       " 4: array([[ 0.8, -0.6,  0. ,  0. ],\n",
       "        [ 0. ,  0. ,  0.8, -0.6]])}"
      ]
     },
     "execution_count": 16,
     "metadata": {},
     "output_type": "execute_result"
    }
   ],
   "source": [
    "tr_mats"
   ]
  },
  {
   "cell_type": "code",
   "execution_count": 18,
   "metadata": {},
   "outputs": [],
   "source": [
    "elements_thermal_forces = {}\n",
    "for element, feature in elements.items():\n",
    "    is_thermal = bool(int(input(f'does element {element+1} have thermal force?')))\n",
    "    if is_thermal:\n",
    "        features =  {'delta T':float(input(f'enter the difference of thepruture for element {element}')), 'alpha':float(input(f'enter the thermal coefficent of element {element}'))}\n",
    "        elements_thermal_forces[element] = {'thermal feature ':features, 'qf': np.dot(tr_mats[element].T, np.array([[features['alpha']*features['delta T']*feature['E']*feature['A']],\n",
    "                                                                                                                [features['alpha']*features['delta T']*feature['E']*feature['A']*-1]])),\n",
    "                                                                                                                }\n",
    "    else:\n",
    "        elements_thermal_forces[element] = { 'qf': np.dot(tr_mats[element].T, np.array([[0],\n",
    "                                                                                        [0*-1]])),}"
   ]
  },
  {
   "cell_type": "code",
   "execution_count": 19,
   "metadata": {},
   "outputs": [],
   "source": [
    "elements_error_forces = {}\n",
    "for element, feature in elements.items():\n",
    "    features =  {'error':float(input(f'enter the lenght error for element {element+1}'))}\n",
    "    elements_error_forces[element] = {'error feature ':features, 'qf': np.dot(tr_mats[element].T, np.array([[features['error']*feature['E']*feature['A']],\n",
    "                                                                                                               [features['error']*feature['E']*feature['A']*-1]])),\n",
    "                                                                                                               }"
   ]
  },
  {
   "cell_type": "code",
   "execution_count": 20,
   "metadata": {},
   "outputs": [],
   "source": [
    "#total QFk\n",
    "Qfk = np.zeros((len(FDOF), 1))\n",
    "for i, dof in enumerate(FDOF):\n",
    "    \n",
    "    for element, feature in elements.items():\n",
    "        dofs = []\n",
    "        for _, dof_2 in feature['DOF'].items():\n",
    "            dofs.append(dof_2['index'])\n",
    "        for j, eldof in enumerate(dofs):\n",
    "            if dof == eldof:\n",
    "                \n",
    "                Qfk[i][0] += elements_thermal_forces[element]['qf'][j][0]\n",
    "                Qfk[i][0] += elements_error_forces[element]['qf'][j][0]\n"
   ]
  },
  {
   "cell_type": "code",
   "execution_count": 21,
   "metadata": {},
   "outputs": [],
   "source": [
    "#total QFu\n",
    "Qfu = np.zeros((len(CDOF), 1))\n",
    "for i, dof in enumerate(CDOF):\n",
    "    \n",
    "    for element, feature in elements.items():\n",
    "        dofs = []\n",
    "        for _, dof_2 in feature['DOF'].items():\n",
    "            dofs.append(dof_2['index'])\n",
    "        for j, eldof in enumerate(dofs):\n",
    "            if dof == eldof:\n",
    "                \n",
    "                Qfu[i][0] += elements_thermal_forces[element]['qf'][j][0]\n",
    "                Qfu[i][0] += elements_error_forces[element]['qf'][j][0]"
   ]
  },
  {
   "cell_type": "code",
   "execution_count": 22,
   "metadata": {},
   "outputs": [
    {
     "data": {
      "text/plain": [
       "array([[384.],\n",
       "       [288.],\n",
       "       [  0.],\n",
       "       [  0.]])"
      ]
     },
     "execution_count": 22,
     "metadata": {},
     "output_type": "execute_result"
    }
   ],
   "source": [
    "Qfu"
   ]
  },
  {
   "cell_type": "code",
   "execution_count": 23,
   "metadata": {},
   "outputs": [],
   "source": [
    "#global stiffnes matrix\n",
    "k = {}\n",
    "for element, feature in elements.items():\n",
    "    xi = feature['cor']['start'][0]\n",
    "    xj = feature['cor']['end'][0]\n",
    "    yi = feature['cor']['start'][1]\n",
    "    yj = feature['cor']['end'][1]\n",
    "    k[element] = (feature['E'] * feature['A'] / feature['L']) * np.array([[lambda_x(xi, xj, yi, yj)*lambda_x(xi, xj, yi, yj), lambda_x(xi, xj, yi, yj)*lambda_y(xi, xj, yi, yj),\n",
    "                                                                            -1*lambda_x(xi, xj, yi, yj)*lambda_x(xi, xj, yi, yj), -1*lambda_x(xi, xj, yi, yj)*lambda_y(xi, xj, yi, yj)],\n",
    "\n",
    "                                                                            [lambda_x(xi, xj, yi, yj)*lambda_y(xi, xj, yi, yj), lambda_y(xi, xj, yi, yj)*lambda_y(xi, xj, yi, yj),\n",
    "                                                                             -1*lambda_x(xi, xj, yi, yj)*lambda_y(xi, xj, yi, yj), -1*lambda_y(xi, xj, yi, yj)*lambda_y(xi, xj, yi, yj)],\n",
    "\n",
    "                                                                             [-1*lambda_x(xi, xj, yi, yj)*lambda_x(xi, xj, yi, yj), -1*lambda_x(xi, xj, yi, yj)*lambda_y(xi, xj, yi, yj),\n",
    "                                                                              lambda_x(xi, xj, yi, yj)*lambda_x(xi, xj, yi, yj),lambda_x(xi, xj, yi, yj)*lambda_y(xi, xj, yi, yj) ],\n",
    "\n",
    "                                                                              [-1*lambda_x(xi, xj, yi, yj)*lambda_y(xi, xj, yi, yj),-1*lambda_y(xi, xj, yi, yj)*lambda_y(xi, xj, yi, yj),\n",
    "                                                                               lambda_x(xi, xj, yi, yj)*lambda_y(xi, xj, yi, yj), lambda_y(xi, xj, yi, yj)*lambda_y(xi, xj, yi, yj)]\n",
    "                                                                              ])"
   ]
  },
  {
   "cell_type": "code",
   "execution_count": 24,
   "metadata": {},
   "outputs": [],
   "source": [
    "kps = {}\n",
    "for element, feature in elements.items():    \n",
    "    dofs = []\n",
    "    for _, dof in feature['DOF'].items():\n",
    "        dofs.append(dof['index'])\n",
    "    kp = np.empty((4,4))\n",
    "    for i, v in enumerate(dofs):\n",
    "        for j, m in enumerate(dofs):\n",
    "            kp[i][j] = str(v) + str(m)\n",
    "    kps[element] = kp\n"
   ]
  },
  {
   "cell_type": "code",
   "execution_count": 25,
   "metadata": {},
   "outputs": [
    {
     "data": {
      "text/plain": [
       "{0: array([[ 50000.,      0., -50000.,     -0.],\n",
       "        [     0.,      0.,     -0.,     -0.],\n",
       "        [-50000.,     -0.,  50000.,      0.],\n",
       "        [    -0.,     -0.,      0.,      0.]]),\n",
       " 1: array([[ 25600.,  19200., -25600., -19200.],\n",
       "        [ 19200.,  14400., -19200., -14400.],\n",
       "        [-25600., -19200.,  25600.,  19200.],\n",
       "        [-19200., -14400.,  19200.,  14400.]]),\n",
       " 2: array([[     0.        ,      0.        ,     -0.        ,\n",
       "             -0.        ],\n",
       "        [     0.        ,  66666.66666667,     -0.        ,\n",
       "         -66666.66666667],\n",
       "        [    -0.        ,     -0.        ,      0.        ,\n",
       "              0.        ],\n",
       "        [    -0.        , -66666.66666667,      0.        ,\n",
       "          66666.66666667]]),\n",
       " 3: array([[ 25600., -19200., -25600.,  19200.],\n",
       "        [-19200.,  14400.,  19200., -14400.],\n",
       "        [-25600.,  19200.,  25600., -19200.],\n",
       "        [ 19200., -14400., -19200.,  14400.]]),\n",
       " 4: array([[ 25600., -19200., -25600.,  19200.],\n",
       "        [-19200.,  14400.,  19200., -14400.],\n",
       "        [-25600.,  19200.,  25600., -19200.],\n",
       "        [ 19200., -14400., -19200.,  14400.]])}"
      ]
     },
     "execution_count": 25,
     "metadata": {},
     "output_type": "execute_result"
    }
   ],
   "source": [
    "k"
   ]
  },
  {
   "cell_type": "code",
   "execution_count": 26,
   "metadata": {},
   "outputs": [],
   "source": [
    "# K ff\n",
    "Kff = np.zeros((len(FDOF), len(FDOF)))\n",
    "for i, v in enumerate(FDOF):\n",
    "    for j, m in enumerate(FDOF):\n",
    "        for element, feature in elements.items():\n",
    "            dofs = []\n",
    "            for _, dof in feature['DOF'].items():\n",
    "                dofs.append(dof['index'])\n",
    "            for I, V in enumerate(dofs):\n",
    "                for J, K in enumerate(dofs):\n",
    "                    if float(str(v) + str(m)) == kps[element][I][J]:\n",
    "                        Kff[i][j] += k[element][I][J]"
   ]
  },
  {
   "cell_type": "code",
   "execution_count": 27,
   "metadata": {},
   "outputs": [
    {
     "data": {
      "text/plain": [
       "array([[ 81066.66666667,  19200.        , -14400.        ,\n",
       "             0.        ],\n",
       "       [ 19200.        ,  76800.        , -19200.        ,\n",
       "        -25600.        ],\n",
       "       [-14400.        , -19200.        ,  43200.        ,\n",
       "         19200.        ],\n",
       "       [     0.        , -25600.        ,  19200.        ,\n",
       "         75600.        ]])"
      ]
     },
     "execution_count": 27,
     "metadata": {},
     "output_type": "execute_result"
    }
   ],
   "source": [
    "Kff"
   ]
  },
  {
   "cell_type": "code",
   "execution_count": 28,
   "metadata": {},
   "outputs": [],
   "source": [
    "# K fc\n",
    "Kfc = np.zeros((len(FDOF), len(CDOF)))\n",
    "for i, v in enumerate(FDOF):\n",
    "    for j, m in enumerate(CDOF):\n",
    "        for element, feature in elements.items():\n",
    "            dofs = []\n",
    "            for _, dof in feature['DOF'].items():\n",
    "                dofs.append(dof['index'])\n",
    "            for I, V in enumerate(dofs):\n",
    "                for J, K in enumerate(dofs):\n",
    "                    if float(str(v) + str(m)) == kps[element][I][J]:\n",
    "                        Kfc[i][j] += k[element][I][J]"
   ]
  },
  {
   "cell_type": "code",
   "execution_count": 29,
   "metadata": {},
   "outputs": [
    {
     "data": {
      "text/plain": [
       "array([[     0.        , -66666.66666667, -19200.        ,\n",
       "             0.        ],\n",
       "       [-25600.        , -19200.        , -25600.        ,\n",
       "         19200.        ],\n",
       "       [-19200.        , -14400.        ,  19200.        ,\n",
       "        -14400.        ],\n",
       "       [-50000.        ,      0.        ,      0.        ,\n",
       "        -19200.        ]])"
      ]
     },
     "execution_count": 29,
     "metadata": {},
     "output_type": "execute_result"
    }
   ],
   "source": [
    "Kfc"
   ]
  },
  {
   "cell_type": "code",
   "execution_count": 30,
   "metadata": {},
   "outputs": [],
   "source": [
    "# K cf\n",
    "Kcf = np.zeros((len(CDOF), len(FDOF)))\n",
    "for i, v in enumerate(CDOF):\n",
    "    for j, m in enumerate(FDOF):\n",
    "        for element, feature in elements.items():\n",
    "            dofs = []\n",
    "            for _, dof in feature['DOF'].items():\n",
    "                dofs.append(dof['index'])\n",
    "            for I, V in enumerate(dofs):\n",
    "                for J, K in enumerate(dofs):\n",
    "                    if float(str(v) + str(m)) == kps[element][I][J]:\n",
    "                        Kcf[i][j] += k[element][I][J]"
   ]
  },
  {
   "cell_type": "code",
   "execution_count": 31,
   "metadata": {},
   "outputs": [
    {
     "data": {
      "text/plain": [
       "array([[     0.        , -25600.        , -19200.        ,\n",
       "        -50000.        ],\n",
       "       [-66666.66666667, -19200.        , -14400.        ,\n",
       "             0.        ],\n",
       "       [-19200.        , -25600.        ,  19200.        ,\n",
       "             0.        ],\n",
       "       [     0.        ,  19200.        , -14400.        ,\n",
       "        -19200.        ]])"
      ]
     },
     "execution_count": 31,
     "metadata": {},
     "output_type": "execute_result"
    }
   ],
   "source": [
    "Kcf"
   ]
  },
  {
   "cell_type": "code",
   "execution_count": 32,
   "metadata": {},
   "outputs": [],
   "source": [
    "# K cc\n",
    "Kcc = np.zeros((len(CDOF), len(CDOF)))\n",
    "for i, v in enumerate(CDOF):\n",
    "    for j, m in enumerate(CDOF):\n",
    "        for element, feature in elements.items():\n",
    "            dofs = []\n",
    "            for _, dof in feature['DOF'].items():\n",
    "                dofs.append(dof['index'])\n",
    "            for I, V in enumerate(dofs):\n",
    "                for J, K in enumerate(dofs):\n",
    "                    if float(str(v) + str(m)) == kps[element][I][J]:\n",
    "                        Kcc[i][j] += k[element][I][J]"
   ]
  },
  {
   "cell_type": "code",
   "execution_count": 33,
   "metadata": {},
   "outputs": [
    {
     "data": {
      "text/plain": [
       "array([[75600.        , 19200.        ,     0.        ,     0.        ],\n",
       "       [19200.        , 81066.66666667,     0.        ,     0.        ],\n",
       "       [    0.        ,     0.        , 25600.        ,     0.        ],\n",
       "       [    0.        ,     0.        ,     0.        , 14400.        ]])"
      ]
     },
     "execution_count": 33,
     "metadata": {},
     "output_type": "execute_result"
    }
   ],
   "source": [
    "Kcc"
   ]
  },
  {
   "cell_type": "code",
   "execution_count": 35,
   "metadata": {},
   "outputs": [],
   "source": [
    "Du = np.dot(np.linalg.inv(Kff),(Qk - Qfk - np.dot(Kfc, Dk)))"
   ]
  },
  {
   "cell_type": "code",
   "execution_count": 36,
   "metadata": {},
   "outputs": [],
   "source": [
    "Qu = np.dot(Kff, Du)+np.dot(Kfc, Dk)+Qfu"
   ]
  },
  {
   "cell_type": "code",
   "execution_count": 37,
   "metadata": {},
   "outputs": [
    {
     "data": {
      "text/plain": [
       "array([[-0.52053226],\n",
       "       [ 1.42981116],\n",
       "       [-1.01935932],\n",
       "       [ 0.74305376]])"
      ]
     },
     "execution_count": 37,
     "metadata": {},
     "output_type": "execute_result"
    }
   ],
   "source": [
    "Du"
   ]
  },
  {
   "cell_type": "code",
   "execution_count": 38,
   "metadata": {},
   "outputs": [
    {
     "data": {
      "text/plain": [
       "array([[ 3.84000000e+02],\n",
       "       [ 1.00672000e+05],\n",
       "       [-4.97120000e+04],\n",
       "       [-3.63797881e-12]])"
      ]
     },
     "execution_count": 38,
     "metadata": {},
     "output_type": "execute_result"
    }
   ],
   "source": [
    "Qu"
   ]
  },
  {
   "cell_type": "code",
   "execution_count": null,
   "metadata": {},
   "outputs": [],
   "source": []
  }
 ],
 "metadata": {
  "kernelspec": {
   "display_name": "base",
   "language": "python",
   "name": "python3"
  },
  "language_info": {
   "codemirror_mode": {
    "name": "ipython",
    "version": 3
   },
   "file_extension": ".py",
   "mimetype": "text/x-python",
   "name": "python",
   "nbconvert_exporter": "python",
   "pygments_lexer": "ipython3",
   "version": "3.11.5"
  }
 },
 "nbformat": 4,
 "nbformat_minor": 2
}
