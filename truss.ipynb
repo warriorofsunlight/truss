{
 "cells": [
  {
   "cell_type": "code",
   "execution_count": 1,
   "metadata": {},
   "outputs": [],
   "source": [
    "import numpy as np"
   ]
  },
  {
   "cell_type": "code",
   "execution_count": 2,
   "metadata": {},
   "outputs": [],
   "source": [
    "# number of elements\n",
    "elements_no = int(input('enter the number of elements: '))"
   ]
  },
  {
   "cell_type": "code",
   "execution_count": 3,
   "metadata": {},
   "outputs": [],
   "source": [
    "#define elements\n",
    "elements = {}\n",
    "for element in range(elements_no):\n",
    "    elements[element] = {'L': float(input(f'enter the lenght of element (m) {element+1}')),\n",
    "                         'E':float(input(f'enter the modulus of element {element+1}')),\n",
    "                         'A':float(input(f'enter the area of element (m ^ 2) {element+1}')),\n",
    "                         'cor':{'start':(float(input(f'enter the x coordinate of starting point of element {element+1}')), float(input(f'enter the y coordinate of starting point of element {element+1}'))),\n",
    "                                'end':(float(input(f'enter the x coordinate of ending point of element {element+1}')), float(input(f'enter the y coordinate of ending point of element {element+1}'))),\n",
    "                                },\n",
    "                            'DOF':{0:{'index':int(input(f'enter the index of first degree of freedom for elemnt {element+1}')), 'C ':bool(input('is it free (0) or constrain (1):'))},\n",
    "                                                 1:{'index':int(input(f'enter the index of second degree of freedom for elemnt {element+1}')), 'C ':bool(int(input('is it free (0) or constrain (1):')))},\n",
    "                                                 2:{'index':int(input(f'enter the index of third degree of freedom for elemnt {element+1}')), 'C ':bool(int(input('is it free (0) or constrain (1):')))},\n",
    "                                                 3:{'index':int(input(f'enter the index of fourth degree of freedom for elemnt {element+1}')), 'C ':bool(int(input('is it free (0) or constrain (1):')))}}\n",
    "\n",
    "                         }"
   ]
  },
  {
   "cell_type": "code",
   "execution_count": 15,
   "metadata": {},
   "outputs": [],
   "source": [
    "dofs = {}\n",
    "for element, feature in elements.items():\n",
    "    for i, dof in feature['DOF'].items():\n",
    "        dofs[dof['index']] = dof['C ']"
   ]
  },
  {
   "cell_type": "code",
   "execution_count": 16,
   "metadata": {},
   "outputs": [],
   "source": [
    "FDOF = []\n",
    "CDOF = []\n",
    "for dof, c in dofs.items():\n",
    "    if c:\n",
    "        CDOF.append(dof)\n",
    "    else:\n",
    "        FDOF.append(dof)\n",
    "FDOF = sorted(FDOF)\n",
    "CDOF = sorted(CDOF)"
   ]
  },
  {
   "cell_type": "code",
   "execution_count": 17,
   "metadata": {},
   "outputs": [],
   "source": [
    "# define Qk\n",
    "Qk = np.zeros((len(FDOF), 1))\n",
    "for i, dof in enumerate(FDOF):\n",
    "    Qk[i][0] = float(input(f'enter the external force exetred on degre of freedom No (N) {dof}'))"
   ]
  },
  {
   "cell_type": "code",
   "execution_count": 18,
   "metadata": {},
   "outputs": [],
   "source": [
    "#define Qu\n",
    "Qu = np.zeros((len(CDOF), 1))"
   ]
  },
  {
   "cell_type": "code",
   "execution_count": 19,
   "metadata": {},
   "outputs": [],
   "source": [
    "#define Dk\n",
    "Dk = np.zeros((len(CDOF), 1))\n",
    "for i, dof in enumerate(CDOF):\n",
    "    Dk[i][0] = float(input(f'enter the external displacemnet for degre of freedom No (m) {dof}'))"
   ]
  },
  {
   "cell_type": "code",
   "execution_count": 20,
   "metadata": {},
   "outputs": [],
   "source": [
    "#define Qu\n",
    "Du = np.zeros((len(FDOF), 1))"
   ]
  },
  {
   "cell_type": "code",
   "execution_count": 21,
   "metadata": {},
   "outputs": [],
   "source": [
    "#local stifness matrix\n",
    "\n",
    "matrix = [[1,-1],\n",
    "               [-1,1]]\n",
    "\n",
    "matrix = np.array(matrix)\n",
    "\n",
    "stif_mat = {element:(elements[element]['E']*elements[element]['A']/elements[element]['L']) * matrix for element in elements}"
   ]
  },
  {
   "cell_type": "code",
   "execution_count": 22,
   "metadata": {},
   "outputs": [
    {
     "data": {
      "text/plain": [
       "{0: array([[ 50000., -50000.],\n",
       "        [-50000.,  50000.]]),\n",
       " 1: array([[ 40000., -40000.],\n",
       "        [-40000.,  40000.]]),\n",
       " 2: array([[ 66666.66666667, -66666.66666667],\n",
       "        [-66666.66666667,  66666.66666667]]),\n",
       " 3: array([[ 40000., -40000.],\n",
       "        [-40000.,  40000.]]),\n",
       " 4: array([[ 40000., -40000.],\n",
       "        [-40000.,  40000.]])}"
      ]
     },
     "execution_count": 22,
     "metadata": {},
     "output_type": "execute_result"
    }
   ],
   "source": [
    "stif_mat"
   ]
  },
  {
   "cell_type": "code",
   "execution_count": 23,
   "metadata": {},
   "outputs": [],
   "source": [
    "def lambda_x(xi, xj, yi, yj):\n",
    "    return (xj - xi)/np.sqrt((xj-xi)**2 + (yj-yi)**2)\n",
    "\n",
    "def lambda_y(xi, xj, yi, yj):\n",
    "    return (yj - yi)/np.sqrt((xj-xi)**2 + (yj-yi)**2)"
   ]
  },
  {
   "cell_type": "code",
   "execution_count": 24,
   "metadata": {},
   "outputs": [],
   "source": [
    "# transmition matrix\n",
    "tr_mats = {element:np.array([[lambda_x(xi=elements[element]['cor']['start'][0], xj=elements[element]['cor']['start'][1],\n",
    "                             yi=elements[element]['cor']['end'][0], yj=elements[element]['cor']['end'][1]),\n",
    "                             lambda_y(xi=elements[element]['cor']['start'][0], xj=elements[element]['cor']['start'][1],\n",
    "                             yi=elements[element]['cor']['end'][0], yj=elements[element]['cor']['end'][1]), 0, 0],\n",
    "                             [0, 0,lambda_x(xi=elements[element]['cor']['start'][0], xj=elements[element]['cor']['start'][1],\n",
    "                             yi=elements[element]['cor']['end'][0], yj=elements[element]['cor']['end'][1]),\n",
    "                             lambda_y(xi=elements[element]['cor']['start'][0], xj=elements[element]['cor']['start'][1],\n",
    "                             yi=elements[element]['cor']['end'][0], yj=elements[element]['cor']['end'][1]) ]]) for element in elements}"
   ]
  },
  {
   "cell_type": "code",
   "execution_count": 25,
   "metadata": {},
   "outputs": [
    {
     "data": {
      "text/plain": [
       "{0: array([[ 0., -1.,  0.,  0.],\n",
       "        [ 0.,  0.,  0., -1.]]),\n",
       " 1: array([[ 0., -1.,  0.,  0.],\n",
       "        [ 0.,  0.,  0., -1.]]),\n",
       " 2: array([[0., 1., 0., 0.],\n",
       "        [0., 0., 0., 1.]]),\n",
       " 3: array([[ 0.98639392, -0.16439899,  0.        ,  0.        ],\n",
       "        [ 0.        ,  0.        ,  0.98639392, -0.16439899]]),\n",
       " 4: array([[-0.12403473, -0.99227788,  0.        ,  0.        ],\n",
       "        [ 0.        ,  0.        , -0.12403473, -0.99227788]])}"
      ]
     },
     "execution_count": 25,
     "metadata": {},
     "output_type": "execute_result"
    }
   ],
   "source": [
    "tr_mats"
   ]
  },
  {
   "cell_type": "code",
   "execution_count": 26,
   "metadata": {},
   "outputs": [],
   "source": [
    "#global stiffnes matrix\n",
    "k = {}\n",
    "for element, feature in elements.items():\n",
    "    xi = feature['cor']['start'][0]\n",
    "    xj = feature['cor']['end'][0]\n",
    "    yi = feature['cor']['start'][1]\n",
    "    yj = feature['cor']['end'][1]\n",
    "    k[element] = (feature['E'] * feature['A'] / feature['L']) * np.array([[lambda_x(xi, xj, yi, yj)*lambda_x(xi, xj, yi, yj), lambda_x(xi, xj, yi, yj)*lambda_y(xi, xj, yi, yj),\n",
    "                                                                            -1*lambda_x(xi, xj, yi, yj)*lambda_x(xi, xj, yi, yj), -1*lambda_x(xi, xj, yi, yj)*lambda_y(xi, xj, yi, yj)],\n",
    "\n",
    "                                                                            [lambda_x(xi, xj, yi, yj)*lambda_y(xi, xj, yi, yj), lambda_y(xi, xj, yi, yj)*lambda_y(xi, xj, yi, yj),\n",
    "                                                                             -1*lambda_x(xi, xj, yi, yj)*lambda_y(xi, xj, yi, yj), -1*lambda_y(xi, xj, yi, yj)*lambda_y(xi, xj, yi, yj)],\n",
    "\n",
    "                                                                             [-1*lambda_x(xi, xj, yi, yj)*lambda_x(xi, xj, yi, yj), -1*lambda_x(xi, xj, yi, yj)*lambda_y(xi, xj, yi, yj),\n",
    "                                                                              lambda_x(xi, xj, yi, yj)*lambda_x(xi, xj, yi, yj),lambda_x(xi, xj, yi, yj)*lambda_y(xi, xj, yi, yj) ],\n",
    "\n",
    "                                                                              [-1*lambda_x(xi, xj, yi, yj)*lambda_y(xi, xj, yi, yj),-1*lambda_y(xi, xj, yi, yj)*lambda_y(xi, xj, yi, yj),\n",
    "                                                                               lambda_x(xi, xj, yi, yj)*lambda_y(xi, xj, yi, yj), lambda_y(xi, xj, yi, yj)*lambda_y(xi, xj, yi, yj)]\n",
    "                                                                              ])"
   ]
  },
  {
   "cell_type": "code",
   "execution_count": 27,
   "metadata": {},
   "outputs": [],
   "source": [
    "kps = {}\n",
    "for element, feature in elements.items():    \n",
    "    dofs = []\n",
    "    for _, dof in feature['DOF'].items():\n",
    "        dofs.append(dof['index'])\n",
    "    kp = np.empty((4,4))\n",
    "    for i, v in enumerate(dofs):\n",
    "        for j, m in enumerate(dofs):\n",
    "            kp[i][j] = str(v) + str(m)\n",
    "    kps[element] = kp\n"
   ]
  },
  {
   "cell_type": "code",
   "execution_count": 28,
   "metadata": {},
   "outputs": [
    {
     "data": {
      "text/plain": [
       "{0: array([[ 50000.,      0., -50000.,     -0.],\n",
       "        [     0.,      0.,     -0.,     -0.],\n",
       "        [-50000.,     -0.,  50000.,      0.],\n",
       "        [    -0.,     -0.,      0.,      0.]]),\n",
       " 1: array([[ 25600.,  19200., -25600., -19200.],\n",
       "        [ 19200.,  14400., -19200., -14400.],\n",
       "        [-25600., -19200.,  25600.,  19200.],\n",
       "        [-19200., -14400.,  19200.,  14400.]]),\n",
       " 2: array([[     0.        ,      0.        ,     -0.        ,\n",
       "             -0.        ],\n",
       "        [     0.        ,  66666.66666667,     -0.        ,\n",
       "         -66666.66666667],\n",
       "        [    -0.        ,     -0.        ,      0.        ,\n",
       "              0.        ],\n",
       "        [    -0.        , -66666.66666667,      0.        ,\n",
       "          66666.66666667]]),\n",
       " 3: array([[ 25600., -19200., -25600.,  19200.],\n",
       "        [-19200.,  14400.,  19200., -14400.],\n",
       "        [-25600.,  19200.,  25600., -19200.],\n",
       "        [ 19200., -14400., -19200.,  14400.]]),\n",
       " 4: array([[ 25600., -19200., -25600.,  19200.],\n",
       "        [-19200.,  14400.,  19200., -14400.],\n",
       "        [-25600.,  19200.,  25600., -19200.],\n",
       "        [ 19200., -14400., -19200.,  14400.]])}"
      ]
     },
     "execution_count": 28,
     "metadata": {},
     "output_type": "execute_result"
    }
   ],
   "source": [
    "k"
   ]
  },
  {
   "cell_type": "code",
   "execution_count": 29,
   "metadata": {},
   "outputs": [],
   "source": [
    "for element, feature in elements.items():\n",
    "    feature['DOF'] =  dict(sorted(feature['DOF'].items(), key=lambda x: x[1]['index']))"
   ]
  },
  {
   "cell_type": "code",
   "execution_count": 30,
   "metadata": {},
   "outputs": [],
   "source": [
    "# K ff\n",
    "Kff = np.zeros((len(FDOF), len(FDOF)))\n",
    "for i, v in enumerate(FDOF):\n",
    "    for j, m in enumerate(FDOF):\n",
    "        for element, feature in elements.items():\n",
    "            dofs = []\n",
    "            for _, dof in feature['DOF'].items():\n",
    "                dofs.append(dof['index'])\n",
    "            for I, V in enumerate(dofs):\n",
    "                for J, K in enumerate(dofs):\n",
    "                    if float(str(v) + str(m)) == kps[element][I][J]:\n",
    "                        Kff[i][j] += k[element][I][J]"
   ]
  },
  {
   "cell_type": "code",
   "execution_count": 31,
   "metadata": {},
   "outputs": [
    {
     "data": {
      "text/plain": [
       "array([[ 81066.66666667,  19200.        , -14400.        ,\n",
       "             0.        ],\n",
       "       [ 19200.        ,  76800.        , -19200.        ,\n",
       "        -25600.        ],\n",
       "       [-14400.        , -19200.        ,  43200.        ,\n",
       "         19200.        ],\n",
       "       [     0.        , -25600.        ,  19200.        ,\n",
       "         75600.        ]])"
      ]
     },
     "execution_count": 31,
     "metadata": {},
     "output_type": "execute_result"
    }
   ],
   "source": [
    "Kff"
   ]
  },
  {
   "cell_type": "code",
   "execution_count": 32,
   "metadata": {},
   "outputs": [],
   "source": [
    "# K fc\n",
    "Kfc = np.zeros((len(FDOF), len(CDOF)))\n",
    "for i, v in enumerate(FDOF):\n",
    "    for j, m in enumerate(CDOF):\n",
    "        for element, feature in elements.items():\n",
    "            dofs = []\n",
    "            for _, dof in feature['DOF'].items():\n",
    "                dofs.append(dof['index'])\n",
    "            for I, V in enumerate(dofs):\n",
    "                for J, K in enumerate(dofs):\n",
    "                    if float(str(v) + str(m)) == kps[element][I][J]:\n",
    "                        Kfc[i][j] += k[element][I][J]"
   ]
  },
  {
   "cell_type": "code",
   "execution_count": 33,
   "metadata": {},
   "outputs": [
    {
     "data": {
      "text/plain": [
       "array([[     0.        , -66666.66666667, -19200.        ,\n",
       "             0.        ],\n",
       "       [-25600.        , -19200.        , -25600.        ,\n",
       "         19200.        ],\n",
       "       [-19200.        , -14400.        ,  19200.        ,\n",
       "        -14400.        ],\n",
       "       [-50000.        ,      0.        ,      0.        ,\n",
       "        -19200.        ]])"
      ]
     },
     "execution_count": 33,
     "metadata": {},
     "output_type": "execute_result"
    }
   ],
   "source": [
    "Kfc"
   ]
  },
  {
   "cell_type": "code",
   "execution_count": 34,
   "metadata": {},
   "outputs": [],
   "source": [
    "# K cf\n",
    "Kcf = np.zeros((len(CDOF), len(FDOF)))\n",
    "for i, v in enumerate(CDOF):\n",
    "    for j, m in enumerate(FDOF):\n",
    "        for element, feature in elements.items():\n",
    "            dofs = []\n",
    "            for _, dof in feature['DOF'].items():\n",
    "                dofs.append(dof['index'])\n",
    "            for I, V in enumerate(dofs):\n",
    "                for J, K in enumerate(dofs):\n",
    "                    if float(str(v) + str(m)) == kps[element][I][J]:\n",
    "                        Kcf[i][j] += k[element][I][J]"
   ]
  },
  {
   "cell_type": "code",
   "execution_count": 35,
   "metadata": {},
   "outputs": [
    {
     "data": {
      "text/plain": [
       "array([[     0.        , -25600.        , -19200.        ,\n",
       "        -50000.        ],\n",
       "       [-66666.66666667, -19200.        , -14400.        ,\n",
       "             0.        ],\n",
       "       [-19200.        , -25600.        ,  19200.        ,\n",
       "             0.        ],\n",
       "       [     0.        ,  19200.        , -14400.        ,\n",
       "        -19200.        ]])"
      ]
     },
     "execution_count": 35,
     "metadata": {},
     "output_type": "execute_result"
    }
   ],
   "source": [
    "Kcf"
   ]
  },
  {
   "cell_type": "code",
   "execution_count": 36,
   "metadata": {},
   "outputs": [],
   "source": [
    "# K cc\n",
    "Kcc = np.zeros((len(CDOF), len(CDOF)))\n",
    "for i, v in enumerate(CDOF):\n",
    "    for j, m in enumerate(CDOF):\n",
    "        for element, feature in elements.items():\n",
    "            dofs = []\n",
    "            for _, dof in feature['DOF'].items():\n",
    "                dofs.append(dof['index'])\n",
    "            for I, V in enumerate(dofs):\n",
    "                for J, K in enumerate(dofs):\n",
    "                    if float(str(v) + str(m)) == kps[element][I][J]:\n",
    "                        Kcc[i][j] += k[element][I][J]"
   ]
  },
  {
   "cell_type": "code",
   "execution_count": 37,
   "metadata": {},
   "outputs": [
    {
     "data": {
      "text/plain": [
       "array([[75600.        , 19200.        ,     0.        ,     0.        ],\n",
       "       [19200.        , 81066.66666667,     0.        ,     0.        ],\n",
       "       [    0.        ,     0.        , 25600.        ,     0.        ],\n",
       "       [    0.        ,     0.        ,     0.        , 14400.        ]])"
      ]
     },
     "execution_count": 37,
     "metadata": {},
     "output_type": "execute_result"
    }
   ],
   "source": [
    "Kcc"
   ]
  },
  {
   "cell_type": "code",
   "execution_count": 38,
   "metadata": {},
   "outputs": [],
   "source": [
    "Du = np.dot(np.linalg.inv(Kff),(Qk - np.dot(Kfc, Dk)))"
   ]
  },
  {
   "cell_type": "code",
   "execution_count": 39,
   "metadata": {},
   "outputs": [],
   "source": [
    "Qu = np.dot(Kff, Du)+np.dot(Kfc, Dk)"
   ]
  },
  {
   "cell_type": "code",
   "execution_count": 40,
   "metadata": {},
   "outputs": [
    {
     "data": {
      "text/plain": [
       "array([[-0.52053226],\n",
       "       [ 1.42231116],\n",
       "       [-1.02935932],\n",
       "       [ 0.74305376]])"
      ]
     },
     "execution_count": 40,
     "metadata": {},
     "output_type": "execute_result"
    }
   ],
   "source": [
    "Du"
   ]
  },
  {
   "cell_type": "code",
   "execution_count": 41,
   "metadata": {},
   "outputs": [
    {
     "data": {
      "text/plain": [
       "array([[ 2.43005616e-12],\n",
       "       [ 1.00000000e+05],\n",
       "       [-5.00000000e+04],\n",
       "       [-1.09139364e-11]])"
      ]
     },
     "execution_count": 41,
     "metadata": {},
     "output_type": "execute_result"
    }
   ],
   "source": [
    "Qu"
   ]
  }
 ],
 "metadata": {
  "kernelspec": {
   "display_name": "base",
   "language": "python",
   "name": "python3"
  },
  "language_info": {
   "codemirror_mode": {
    "name": "ipython",
    "version": 3
   },
   "file_extension": ".py",
   "mimetype": "text/x-python",
   "name": "python",
   "nbconvert_exporter": "python",
   "pygments_lexer": "ipython3",
   "version": "3.11.5"
  }
 },
 "nbformat": 4,
 "nbformat_minor": 2
}
